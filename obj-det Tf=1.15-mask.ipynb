{
 "cells": [
  {
   "cell_type": "code",
   "execution_count": 1,
   "metadata": {},
   "outputs": [],
   "source": [
    "#!/usr/bin/python\n",
    "# Import packages\n",
    "import os\n",
    "import cv2\n",
    "import numpy as np\n",
    "import tensorflow as tf\n",
    "import sys\n",
    "import json\n",
    "import paho.mqtt.client as paho\n",
    "import os\n",
    "import socket\n",
    "import ssl\n",
    "from time import sleep\n",
    "from random import uniform\n",
    "import time\n",
    "import datetime"
   ]
  },
  {
   "cell_type": "code",
   "execution_count": 2,
   "metadata": {},
   "outputs": [],
   "source": [
    "count = 0\n",
    "connflag = False"
   ]
  },
  {
   "cell_type": "code",
   "execution_count": 3,
   "metadata": {},
   "outputs": [],
   "source": [
    "def on_connect(client, userdata, flags, rc):\n",
    "    global connflag\n",
    "    connflag = True\n",
    "    print(\"Connection returned result: \" + str(rc) )\n",
    "\n",
    "def on_message(client, userdata, msg):\n",
    "    print(msg.topic+\" \"+str(msg.payload))"
   ]
  },
  {
   "cell_type": "code",
   "execution_count": 4,
   "metadata": {},
   "outputs": [],
   "source": [
    "mqttc = paho.Client()\n",
    "mqttc.on_connect = on_connect\n",
    "mqttc.on_message = on_message"
   ]
  },
  {
   "cell_type": "code",
   "execution_count": 5,
   "metadata": {},
   "outputs": [],
   "source": [
    "host = \"192.168.0.107\"\n",
    "port = 1883"
   ]
  },
  {
   "cell_type": "code",
   "execution_count": 6,
   "metadata": {},
   "outputs": [
    {
     "name": "stdout",
     "output_type": "stream",
     "text": [
      "Connection returned result: 0\n"
     ]
    }
   ],
   "source": [
    "mqttc.connect(host, port, keepalive=60)\n",
    "mqttc.loop_start()"
   ]
  },
  {
   "cell_type": "code",
   "execution_count": 7,
   "metadata": {},
   "outputs": [],
   "source": [
    "# This is needed since the notebook is stored in the object_detection folder.\n",
    "sys.path.append(\"..\")\n",
    "\n",
    "# Import utilites\n",
    "from utils import label_map_util\n",
    "from utils import visualization_utils as vis_util\n",
    "\n",
    "# Name of the directory containing the object detection module we're using\n",
    "MODEL_NAME = 'model_face_mask'\n",
    "\n",
    "# Grab path to current working directory\n",
    "CWD_PATH = os.getcwd()\n",
    "\n",
    "# Path to frozen detection graph .pb file, which contains the model that is used\n",
    "# for object detection.\n",
    "PATH_TO_CKPT = os.path.join(CWD_PATH,MODEL_NAME,'frozen_inference_graph.pb')\n",
    "\n",
    "# Path to label map file\n",
    "PATH_TO_LABELS = os.path.join(CWD_PATH,'model_face_mask','labelmap.pbtxt')\n",
    "\n",
    "# Number of classes the object detector can identify\n",
    "NUM_CLASSES = 2"
   ]
  },
  {
   "cell_type": "code",
   "execution_count": 8,
   "metadata": {},
   "outputs": [],
   "source": [
    "## Load the label map.\n",
    "# Label maps map indices to category names, so that when our convolution\n",
    "# network predicts `5`, we know that this corresponds to `king`.\n",
    "# Here we use internal utility functions, but anything that returns a\n",
    "# dictionary mapping integers to appropriate string labels would be fine\n",
    "label_map = label_map_util.load_labelmap(PATH_TO_LABELS)\n",
    "categories = label_map_util.convert_label_map_to_categories(label_map, max_num_classes=NUM_CLASSES, use_display_name=True)\n",
    "category_index = label_map_util.create_category_index(categories)\n",
    "\n",
    "# Load the Tensorflow model into memory.\n",
    "detection_graph = tf.Graph()\n",
    "with detection_graph.as_default():\n",
    "    od_graph_def = tf.GraphDef()\n",
    "    with tf.gfile.GFile(PATH_TO_CKPT, 'rb') as fid:\n",
    "        serialized_graph = fid.read()\n",
    "        od_graph_def.ParseFromString(serialized_graph)\n",
    "        tf.import_graph_def(od_graph_def, name='')\n",
    "\n",
    "    sess = tf.Session(graph=detection_graph)\n",
    "\n",
    "\n",
    "# Define input and output tensors (i.e. data) for the object detection classifier\n",
    "\n",
    "# Input tensor is the image\n",
    "image_tensor = detection_graph.get_tensor_by_name('image_tensor:0')\n",
    "\n",
    "# Output tensors are the detection boxes, scores, and classes\n",
    "# Each box represents a part of the image where a particular object was detected\n",
    "detection_boxes = detection_graph.get_tensor_by_name('detection_boxes:0')\n",
    "\n",
    "# Each score represents level of confidence for each of the objects.\n",
    "# The score is shown on the result image, together with the class label.\n",
    "detection_scores = detection_graph.get_tensor_by_name('detection_scores:0')\n",
    "detection_classes = detection_graph.get_tensor_by_name('detection_classes:0')\n",
    "\n",
    "# Number of objects detected\n",
    "num_detections = detection_graph.get_tensor_by_name('num_detections:0')\n"
   ]
  },
  {
   "cell_type": "raw",
   "metadata": {},
   "source": [
    "# Initialize webcam feed\n",
    "video = cv2.VideoCapture(0)\n",
    "ret = video.set(3,1280)\n",
    "ret = video.set(4,720)\n",
    "\n",
    "#fps_start_time = datetime.datetime.now()\n",
    "#fps = 0\n",
    "#total_frames = 0\n",
    "\n",
    "count = 0\n",
    "while(True):\n",
    "    ret, frame = video.read()\n",
    "    frame_rgb = cv2.cvtColor(frame, cv2.COLOR_BGR2RGB)\n",
    "    frame_expanded = np.expand_dims(frame_rgb, axis=0)\n",
    "    \n",
    "  #  total_frames = total_frames + 1\n",
    "   # fps_end_time = datetime.datetime.now()\n",
    "   # dif = fps_end_time - fps_start_time\n",
    "   # if dif.seconds == 0:\n",
    "    #    fps = 0.0\n",
    "    # else:\n",
    "     #   fps = (total_frames/dif.seconds)\n",
    "   # cv2.putText(frame, str(fps), (5,30), cv2.FONT_HERSHEY_COMPLEX_SMALL, 1,(0,0,255),1)\n",
    "    \n",
    "    \n",
    "    (boxes, scores, classes, num) = sess.run(\n",
    "        [detection_boxes, detection_scores, detection_classes, num_detections],\n",
    "        feed_dict={image_tensor: frame_expanded})\n",
    "    \n",
    "    k1 = np.squeeze(classes).astype(np.int32)[0]\n",
    "   # print(np.squeeze(scores)[0])\n",
    "    \n",
    "    # Draw the results of the detection (aka 'visulaize the results')\n",
    "    vis_util.visualize_boxes_and_labels_on_image_array(\n",
    "        frame,\n",
    "        np.squeeze(boxes),\n",
    "        np.squeeze(classes).astype(np.int32),\n",
    "        np.squeeze(scores),\n",
    "        category_index,\n",
    "        use_normalized_coordinates=True,\n",
    "        line_thickness=8,\n",
    "        min_score_thresh=0.80) #0.60\n",
    "\n",
    "    # All the results have been drawn on the frame, so it's time to display it.\n",
    "    cv2.imshow('Object detector', frame)\n",
    "        \n",
    "        \n",
    "    k = int(k1) \n",
    "    if connflag == True and np.squeeze(scores)[0] >0.80: #and count == 5:\n",
    "        tempreading = uniform(20.0,25.0)\n",
    "        count=count+1\n",
    "        payload = json.dumps({\n",
    "                          \"status\":k\n",
    "                          })\n",
    "        mqttc.publish(\"Status\", payload, qos=1)\n",
    "        #print(\"msg sent: \" + payload )\n",
    "        count = 0\n",
    "        \n",
    "   # count+=1   \n",
    "    # Press 'q' to quit\n",
    "    if cv2.waitKey(1) == ord('q'):\n",
    "        break\n",
    "\n",
    "   # fps = int(video.get(cv2.CAP_PROP_FPS))\n",
    "   # print(\"rate\" + str(fps))\n",
    "    \n",
    "# Clean up\n",
    "video.release()\n",
    "cv2.destroyAllWindows()"
   ]
  },
  {
   "cell_type": "code",
   "execution_count": 31,
   "metadata": {
    "scrolled": true
   },
   "outputs": [],
   "source": [
    "# Initialize webcam feed\n",
    "video = cv2.VideoCapture(0)\n",
    "ret = video.set(3,1280)\n",
    "ret = video.set(4,720)\n",
    "\n",
    "fps_start_time = datetime.datetime.now()\n",
    "fps = 0\n",
    "total_frames = 0\n",
    "\n",
    "count = 0\n",
    "while(True):\n",
    "    ret, frame = video.read()\n",
    "    frame_rgb = cv2.cvtColor(frame, cv2.COLOR_BGR2RGB)\n",
    "    frame_expanded = np.expand_dims(frame_rgb, axis=0)\n",
    "    \n",
    "    total_frames = total_frames + 1\n",
    "    fps_end_time = datetime.datetime.now()\n",
    "    dif = fps_end_time - fps_start_time\n",
    "    if dif.seconds == 0:\n",
    "        fps = 0.0\n",
    "    else:\n",
    "        fps = (total_frames/dif.seconds)\n",
    "    cv2.putText(frame, str(round(fps,2)), (15,50), cv2.FONT_HERSHEY_COMPLEX_SMALL, 3,(255,20,255),3)\n",
    "    cv2.putText(frame, \"SSD\", (550,50), cv2.FONT_HERSHEY_COMPLEX_SMALL, 3,(255,20,255),3)\n",
    "\n",
    "    classes = 0\n",
    "    (boxes, scores, classes, num) = sess.run(\n",
    "        [detection_boxes, detection_scores, detection_classes, num_detections],\n",
    "        feed_dict={image_tensor: frame_expanded})\n",
    "    \n",
    "    k1 = np.squeeze(classes).astype(np.int32)[0]\n",
    "\n",
    "    \n",
    "    # Draw the results of the detection (aka 'visulaize the results')\n",
    "    vis_util.visualize_boxes_and_labels_on_image_array(\n",
    "        frame,\n",
    "        np.squeeze(boxes),\n",
    "        np.squeeze(classes).astype(np.int32),\n",
    "        np.squeeze(scores),\n",
    "        category_index,\n",
    "        use_normalized_coordinates=True,\n",
    "        line_thickness=8,\n",
    "        min_score_thresh=0.60) #0.60 #0.75 best\n",
    "\n",
    "   \n",
    "    cv2.imshow('Object detector', frame)\n",
    "        \n",
    "        \n",
    "    k = int(k1) \n",
    "    #print(np.squeeze(scores)[0])\n",
    "    if connflag == True and np.squeeze(scores)[0]>0.75: #and count == 5:\n",
    "        tempreading = uniform(20.0,25.0)\n",
    "        count=count+1\n",
    "        payload = json.dumps({\n",
    "                          \"status\":k\n",
    "                          })\n",
    "        mqttc.publish(\"Status\", payload, qos=1)\n",
    "        #print(\"msg sent: \" + payload )\n",
    "        count = 0\n",
    "        \n",
    "    if cv2.waitKey(1) == ord('q'):\n",
    "        break\n",
    "\n",
    "   # fps = int(video.get(cv2.CAP_PROP_FPS))\n",
    "   # print(\"rate\" + str(fps))\n",
    "    \n",
    "# Clean up\n",
    "video.release()\n",
    "cv2.destroyAllWindows()"
   ]
  },
  {
   "cell_type": "code",
   "execution_count": 16,
   "metadata": {},
   "outputs": [
    {
     "data": {
      "text/plain": [
       "{1: {'id': 1, 'name': 'with_mask'}, 2: {'id': 2, 'name': 'without_mask'}}"
      ]
     },
     "execution_count": 16,
     "metadata": {},
     "output_type": "execute_result"
    }
   ],
   "source": [
    "category_index"
   ]
  },
  {
   "cell_type": "raw",
   "metadata": {},
   "source": [
    "while 1==1:\n",
    "    sleep(5)\n",
    "    if connflag == True:\n",
    "        tempreading = uniform(20.0,25.0)\n",
    "        count=count+1\n",
    "        payload = json.dumps({\n",
    "                          \"status\":k1\n",
    "                          })\n",
    "        mqttc.publish(\"Status\", payload, qos=1)\n",
    "        print(\"msg sent: \" + payload )\n",
    "    else:\n",
    "        print(\"waiting for connection...\")"
   ]
  }
 ],
 "metadata": {
  "kernelspec": {
   "display_name": "Python 3",
   "language": "python",
   "name": "python3"
  },
  "language_info": {
   "codemirror_mode": {
    "name": "ipython",
    "version": 3
   },
   "file_extension": ".py",
   "mimetype": "text/x-python",
   "name": "python",
   "nbconvert_exporter": "python",
   "pygments_lexer": "ipython3",
   "version": "3.7.4"
  }
 },
 "nbformat": 4,
 "nbformat_minor": 4
}
